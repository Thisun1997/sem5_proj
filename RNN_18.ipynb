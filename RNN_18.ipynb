{
  "nbformat": 4,
  "nbformat_minor": 0,
  "metadata": {
    "colab": {
      "name": "RNN_18.ipynb",
      "provenance": [],
      "collapsed_sections": []
    },
    "kernelspec": {
      "name": "python3",
      "display_name": "Python 3"
    }
  },
  "cells": [
    {
      "cell_type": "code",
      "metadata": {
        "id": "3GwQj8JDhIdv",
        "colab_type": "code",
        "colab": {}
      },
      "source": [
        "import pandas as pd\n",
        "import numpy as np\n",
        "import re\n",
        "import matplotlib.pyplot as plt\n",
        "import seaborn as sns\n",
        "import string\n",
        "import nltk\n",
        "from sklearn.model_selection import train_test_split, GridSearchCV\n",
        "from sklearn.metrics import f1_score\n",
        "import tensorflow as tf"
      ],
      "execution_count": null,
      "outputs": []
    },
    {
      "cell_type": "code",
      "metadata": {
        "id": "jHysnPiWxN4c",
        "colab_type": "code",
        "colab": {}
      },
      "source": [
        "disaster_cat = pd.read_csv(\"/content/drive/My Drive/Project corpus/disaster_categories.csv\")\n",
        "disaster_msg = pd.read_csv(\"/content/drive/My Drive/Project corpus/disaster_messages.csv\")"
      ],
      "execution_count": null,
      "outputs": []
    },
    {
      "cell_type": "code",
      "metadata": {
        "id": "9eDlWLT3mNQF",
        "colab_type": "code",
        "colab": {}
      },
      "source": [
        "frames = [disaster_cat,disaster_msg['id'],disaster_msg['message']]\n",
        "data = pd.concat(frames, axis=1)\n",
        "del data['id']"
      ],
      "execution_count": null,
      "outputs": []
    },
    {
      "cell_type": "code",
      "metadata": {
        "id": "WwxE6jE4mODY",
        "colab_type": "code",
        "colab": {}
      },
      "source": [
        "categories = data['categories'].str.split(pat=';', n=None, expand=True)"
      ],
      "execution_count": null,
      "outputs": []
    },
    {
      "cell_type": "code",
      "metadata": {
        "id": "vIEBDCdymRmw",
        "colab_type": "code",
        "colab": {}
      },
      "source": [
        "category_colnames = categories.iloc[0].str[:-2]\n",
        "categories.columns = category_colnames\n",
        "for column in categories:\n",
        "    categories[column] = categories[column].str[-1].astype(int)"
      ],
      "execution_count": null,
      "outputs": []
    },
    {
      "cell_type": "code",
      "metadata": {
        "id": "y3yG3IxVy0PM",
        "colab_type": "code",
        "colab": {}
      },
      "source": [
        "#combine the available topics to generate new\n",
        "\n",
        "categories['medical_and_other_aids'] = categories.aid_related | categories.medical_help | categories.medical_products | categories.other_aid | categories.aid_centers | categories.hospitals\n",
        "categories['army_and_police'] = categories.security | categories.military\n",
        "categories['needs'] = categories.water | categories.food \n",
        "categories['disasters'] = categories.weather_related | categories.other_weather\n",
        "categories['infrastructure'] = categories.infrastructure_related | categories.transport | categories.buildings | categories.electricity | categories.tools | categories.shops | categories.other_infrastructure"
      ],
      "execution_count": null,
      "outputs": []
    },
    {
      "cell_type": "code",
      "metadata": {
        "id": "0PZBCCYFy4VU",
        "colab_type": "code",
        "colab": {}
      },
      "source": [
        "df = data.drop(columns='categories')\n",
        "df = pd.concat([df, categories.related, categories.medical_and_other_aids, categories.army_and_police, categories.needs, categories.disasters, categories.infrastructure, categories.search_and_rescue, categories.child_alone, categories.shelter, categories.clothing, categories.money, categories.missing_people, categories.refugees,categories.death, categories.floods, categories.storm, categories.fire, categories.earthquake, categories.cold],axis=1)\n",
        "df = df[df['related'] == 1]\n",
        "df = df.drop_duplicates(keep='first')"
      ],
      "execution_count": null,
      "outputs": []
    },
    {
      "cell_type": "code",
      "metadata": {
        "id": "00dmULzsnGE6",
        "colab_type": "code",
        "colab": {}
      },
      "source": [
        "df = df.iloc[:,df.columns != 'related']"
      ],
      "execution_count": null,
      "outputs": []
    },
    {
      "cell_type": "code",
      "metadata": {
        "id": "385KHcgVzOWe",
        "colab_type": "code",
        "colab": {
          "base_uri": "https://localhost:8080/",
          "height": 568
        },
        "outputId": "c7a30cb0-d1c8-41c0-c2db-9de66ba8d659"
      },
      "source": [
        "df.head()"
      ],
      "execution_count": null,
      "outputs": [
        {
          "output_type": "execute_result",
          "data": {
            "text/html": [
              "<div>\n",
              "<style scoped>\n",
              "    .dataframe tbody tr th:only-of-type {\n",
              "        vertical-align: middle;\n",
              "    }\n",
              "\n",
              "    .dataframe tbody tr th {\n",
              "        vertical-align: top;\n",
              "    }\n",
              "\n",
              "    .dataframe thead th {\n",
              "        text-align: right;\n",
              "    }\n",
              "</style>\n",
              "<table border=\"1\" class=\"dataframe\">\n",
              "  <thead>\n",
              "    <tr style=\"text-align: right;\">\n",
              "      <th></th>\n",
              "      <th>message</th>\n",
              "      <th>medical_and_other_aids</th>\n",
              "      <th>army_and_police</th>\n",
              "      <th>needs</th>\n",
              "      <th>disasters</th>\n",
              "      <th>infrastructure</th>\n",
              "      <th>search_and_rescue</th>\n",
              "      <th>child_alone</th>\n",
              "      <th>shelter</th>\n",
              "      <th>clothing</th>\n",
              "      <th>money</th>\n",
              "      <th>missing_people</th>\n",
              "      <th>refugees</th>\n",
              "      <th>death</th>\n",
              "      <th>floods</th>\n",
              "      <th>storm</th>\n",
              "      <th>fire</th>\n",
              "      <th>earthquake</th>\n",
              "      <th>cold</th>\n",
              "    </tr>\n",
              "  </thead>\n",
              "  <tbody>\n",
              "    <tr>\n",
              "      <th>0</th>\n",
              "      <td>Weather update - a cold front from Cuba that c...</td>\n",
              "      <td>0</td>\n",
              "      <td>0</td>\n",
              "      <td>0</td>\n",
              "      <td>0</td>\n",
              "      <td>0</td>\n",
              "      <td>0</td>\n",
              "      <td>0</td>\n",
              "      <td>0</td>\n",
              "      <td>0</td>\n",
              "      <td>0</td>\n",
              "      <td>0</td>\n",
              "      <td>0</td>\n",
              "      <td>0</td>\n",
              "      <td>0</td>\n",
              "      <td>0</td>\n",
              "      <td>0</td>\n",
              "      <td>0</td>\n",
              "      <td>0</td>\n",
              "    </tr>\n",
              "    <tr>\n",
              "      <th>1</th>\n",
              "      <td>Is the Hurricane over or is it not over</td>\n",
              "      <td>1</td>\n",
              "      <td>0</td>\n",
              "      <td>0</td>\n",
              "      <td>1</td>\n",
              "      <td>0</td>\n",
              "      <td>0</td>\n",
              "      <td>0</td>\n",
              "      <td>0</td>\n",
              "      <td>0</td>\n",
              "      <td>0</td>\n",
              "      <td>0</td>\n",
              "      <td>0</td>\n",
              "      <td>0</td>\n",
              "      <td>0</td>\n",
              "      <td>1</td>\n",
              "      <td>0</td>\n",
              "      <td>0</td>\n",
              "      <td>0</td>\n",
              "    </tr>\n",
              "    <tr>\n",
              "      <th>2</th>\n",
              "      <td>Looking for someone but no name</td>\n",
              "      <td>0</td>\n",
              "      <td>0</td>\n",
              "      <td>0</td>\n",
              "      <td>0</td>\n",
              "      <td>0</td>\n",
              "      <td>0</td>\n",
              "      <td>0</td>\n",
              "      <td>0</td>\n",
              "      <td>0</td>\n",
              "      <td>0</td>\n",
              "      <td>0</td>\n",
              "      <td>0</td>\n",
              "      <td>0</td>\n",
              "      <td>0</td>\n",
              "      <td>0</td>\n",
              "      <td>0</td>\n",
              "      <td>0</td>\n",
              "      <td>0</td>\n",
              "    </tr>\n",
              "    <tr>\n",
              "      <th>3</th>\n",
              "      <td>UN reports Leogane 80-90 destroyed. Only Hospi...</td>\n",
              "      <td>1</td>\n",
              "      <td>0</td>\n",
              "      <td>0</td>\n",
              "      <td>0</td>\n",
              "      <td>1</td>\n",
              "      <td>0</td>\n",
              "      <td>0</td>\n",
              "      <td>0</td>\n",
              "      <td>0</td>\n",
              "      <td>0</td>\n",
              "      <td>0</td>\n",
              "      <td>0</td>\n",
              "      <td>0</td>\n",
              "      <td>0</td>\n",
              "      <td>0</td>\n",
              "      <td>0</td>\n",
              "      <td>0</td>\n",
              "      <td>0</td>\n",
              "    </tr>\n",
              "    <tr>\n",
              "      <th>4</th>\n",
              "      <td>says: west side of Haiti, rest of the country ...</td>\n",
              "      <td>0</td>\n",
              "      <td>0</td>\n",
              "      <td>0</td>\n",
              "      <td>0</td>\n",
              "      <td>0</td>\n",
              "      <td>0</td>\n",
              "      <td>0</td>\n",
              "      <td>0</td>\n",
              "      <td>0</td>\n",
              "      <td>0</td>\n",
              "      <td>0</td>\n",
              "      <td>0</td>\n",
              "      <td>0</td>\n",
              "      <td>0</td>\n",
              "      <td>0</td>\n",
              "      <td>0</td>\n",
              "      <td>0</td>\n",
              "      <td>0</td>\n",
              "    </tr>\n",
              "  </tbody>\n",
              "</table>\n",
              "</div>"
            ],
            "text/plain": [
              "                                             message  ...  cold\n",
              "0  Weather update - a cold front from Cuba that c...  ...     0\n",
              "1            Is the Hurricane over or is it not over  ...     0\n",
              "2                    Looking for someone but no name  ...     0\n",
              "3  UN reports Leogane 80-90 destroyed. Only Hospi...  ...     0\n",
              "4  says: west side of Haiti, rest of the country ...  ...     0\n",
              "\n",
              "[5 rows x 19 columns]"
            ]
          },
          "metadata": {
            "tags": []
          },
          "execution_count": 17
        }
      ]
    },
    {
      "cell_type": "code",
      "metadata": {
        "id": "bpz24ZGNxgQd",
        "colab_type": "code",
        "colab": {
          "base_uri": "https://localhost:8080/",
          "height": 67
        },
        "outputId": "76af1ef6-9cfb-4776-d29f-ed95a2ba0474"
      },
      "source": [
        "import nltk\n",
        "nltk.download('stopwords')"
      ],
      "execution_count": null,
      "outputs": [
        {
          "output_type": "stream",
          "text": [
            "[nltk_data] Downloading package stopwords to /root/nltk_data...\n",
            "[nltk_data]   Unzipping corpora/stopwords.zip.\n"
          ],
          "name": "stdout"
        },
        {
          "output_type": "execute_result",
          "data": {
            "text/plain": [
              "True"
            ]
          },
          "metadata": {
            "tags": []
          },
          "execution_count": 18
        }
      ]
    },
    {
      "cell_type": "code",
      "metadata": {
        "id": "TwPKJcjN6iDE",
        "colab_type": "code",
        "colab": {
          "base_uri": "https://localhost:8080/",
          "height": 67
        },
        "outputId": "301dc7db-7afa-48f1-9dc9-302b7c67d7ee"
      },
      "source": [
        "import nltk\n",
        "nltk.download('wordnet')"
      ],
      "execution_count": null,
      "outputs": [
        {
          "output_type": "stream",
          "text": [
            "[nltk_data] Downloading package wordnet to /root/nltk_data...\n",
            "[nltk_data]   Unzipping corpora/wordnet.zip.\n"
          ],
          "name": "stdout"
        },
        {
          "output_type": "execute_result",
          "data": {
            "text/plain": [
              "True"
            ]
          },
          "metadata": {
            "tags": []
          },
          "execution_count": 19
        }
      ]
    },
    {
      "cell_type": "code",
      "metadata": {
        "id": "eJwCwiMH4zxa",
        "colab_type": "code",
        "colab": {
          "base_uri": "https://localhost:8080/",
          "height": 185
        },
        "outputId": "1e3610ab-158f-41ac-dd04-2634a71b00d8"
      },
      "source": [
        "from nltk.tokenize import RegexpTokenizer\n",
        "from nltk.stem.snowball import SnowballStemmer\n",
        "stemmer = SnowballStemmer(\"english\")\n",
        "from nltk.corpus import stopwords\n",
        "from nltk.stem import WordNetLemmatizer\n",
        "\n",
        "for i in range(len(df)):\n",
        "  try:\n",
        "    df[\"message\"][i] = re.sub(r'http[s]?[ ]?:[ ]?//\\S+', '', df[\"message\"][i].lower())\n",
        "    df[\"message\"][i] = re.sub(r'[^a-zA-Z ]', '', df[\"message\"][i])\n",
        "    # data[\"message\"][i] = re.sub(\"burn|blaze\", \"fire\", data[\"message\"][i])\n",
        "  except KeyError:\n",
        "    continue\n",
        "    \n",
        "reg_tokenizer = RegexpTokenizer(r'\\w+')\n",
        "lemmatizer = WordNetLemmatizer()\n",
        "stop_words = stopwords.words(\"english\")\n",
        "stop_words.extend(['news', 'report', 'affect' ,'say','use', 'not', 'would', 'say', 'could', '_', 'be', 'know', 'good', 'go', 'get', 'do','took','time','year', 'people', 'heavy', 'government', 'done', 'try', 'many', 'some','nice', 'thank', 'think', 'see', 'rather', 'easy', 'easily', 'lot', 'lack', 'make', 'want', 'seem', 'run', 'need', 'even', 'right', 'line','even', 'also', 'may', 'take', 'come', 'new','said', 'like','people','sex','fuck','good','dance'])\n",
        "\n",
        "\n",
        "df[\"tokenized\"] = df[\"message\"].apply(reg_tokenizer.tokenize)\n",
        "df[\"tokenized\"] = df[\"tokenized\"].apply(lambda x: [w for w in x if w not in stop_words])  \n",
        "df[\"tokenized\"] = df[\"tokenized\"].apply(lambda x: [stemmer.stem(i) for i in x])\n",
        "df[\"tokenized\"] = df[\"tokenized\"].apply(lambda x: [lemmatizer.lemmatize(i) for i in x])"
      ],
      "execution_count": null,
      "outputs": [
        {
          "output_type": "stream",
          "text": [
            "/usr/local/lib/python3.6/dist-packages/ipykernel_launcher.py:10: SettingWithCopyWarning: \n",
            "A value is trying to be set on a copy of a slice from a DataFrame\n",
            "\n",
            "See the caveats in the documentation: https://pandas.pydata.org/pandas-docs/stable/user_guide/indexing.html#returning-a-view-versus-a-copy\n",
            "  # Remove the CWD from sys.path while we load stuff.\n",
            "/usr/local/lib/python3.6/dist-packages/ipykernel_launcher.py:9: SettingWithCopyWarning: \n",
            "A value is trying to be set on a copy of a slice from a DataFrame\n",
            "\n",
            "See the caveats in the documentation: https://pandas.pydata.org/pandas-docs/stable/user_guide/indexing.html#returning-a-view-versus-a-copy\n",
            "  if __name__ == '__main__':\n"
          ],
          "name": "stderr"
        }
      ]
    },
    {
      "cell_type": "code",
      "metadata": {
        "id": "LSR1IbiF6pGE",
        "colab_type": "code",
        "colab": {
          "base_uri": "https://localhost:8080/",
          "height": 602
        },
        "outputId": "46431991-f9ba-41f6-bdbe-f2cb9c3554fa"
      },
      "source": [
        "df.tail()"
      ],
      "execution_count": null,
      "outputs": [
        {
          "output_type": "execute_result",
          "data": {
            "text/html": [
              "<div>\n",
              "<style scoped>\n",
              "    .dataframe tbody tr th:only-of-type {\n",
              "        vertical-align: middle;\n",
              "    }\n",
              "\n",
              "    .dataframe tbody tr th {\n",
              "        vertical-align: top;\n",
              "    }\n",
              "\n",
              "    .dataframe thead th {\n",
              "        text-align: right;\n",
              "    }\n",
              "</style>\n",
              "<table border=\"1\" class=\"dataframe\">\n",
              "  <thead>\n",
              "    <tr style=\"text-align: right;\">\n",
              "      <th></th>\n",
              "      <th>message</th>\n",
              "      <th>medical_and_other_aids</th>\n",
              "      <th>army_and_police</th>\n",
              "      <th>needs</th>\n",
              "      <th>disasters</th>\n",
              "      <th>infrastructure</th>\n",
              "      <th>search_and_rescue</th>\n",
              "      <th>child_alone</th>\n",
              "      <th>shelter</th>\n",
              "      <th>clothing</th>\n",
              "      <th>money</th>\n",
              "      <th>missing_people</th>\n",
              "      <th>refugees</th>\n",
              "      <th>death</th>\n",
              "      <th>floods</th>\n",
              "      <th>storm</th>\n",
              "      <th>fire</th>\n",
              "      <th>earthquake</th>\n",
              "      <th>cold</th>\n",
              "      <th>tokenized</th>\n",
              "    </tr>\n",
              "  </thead>\n",
              "  <tbody>\n",
              "    <tr>\n",
              "      <th>26240</th>\n",
              "      <td>The delivery was made in conjunction with the ...</td>\n",
              "      <td>0</td>\n",
              "      <td>0</td>\n",
              "      <td>0</td>\n",
              "      <td>0</td>\n",
              "      <td>0</td>\n",
              "      <td>0</td>\n",
              "      <td>0</td>\n",
              "      <td>0</td>\n",
              "      <td>0</td>\n",
              "      <td>0</td>\n",
              "      <td>0</td>\n",
              "      <td>0</td>\n",
              "      <td>0</td>\n",
              "      <td>0</td>\n",
              "      <td>0</td>\n",
              "      <td>0</td>\n",
              "      <td>0</td>\n",
              "      <td>0</td>\n",
              "      <td>[the, deliveri, made, conjunct, wfp, staffer, ...</td>\n",
              "    </tr>\n",
              "    <tr>\n",
              "      <th>26242</th>\n",
              "      <td>Hpakant, an area rich with coveted jade stones...</td>\n",
              "      <td>0</td>\n",
              "      <td>0</td>\n",
              "      <td>0</td>\n",
              "      <td>0</td>\n",
              "      <td>0</td>\n",
              "      <td>0</td>\n",
              "      <td>0</td>\n",
              "      <td>0</td>\n",
              "      <td>0</td>\n",
              "      <td>0</td>\n",
              "      <td>0</td>\n",
              "      <td>0</td>\n",
              "      <td>0</td>\n",
              "      <td>0</td>\n",
              "      <td>0</td>\n",
              "      <td>0</td>\n",
              "      <td>0</td>\n",
              "      <td>0</td>\n",
              "      <td>[hpakant, area, rich, covet, jade, stone, seen...</td>\n",
              "    </tr>\n",
              "    <tr>\n",
              "      <th>26245</th>\n",
              "      <td>Proshika, operating in Cox's Bazar municipalit...</td>\n",
              "      <td>0</td>\n",
              "      <td>0</td>\n",
              "      <td>0</td>\n",
              "      <td>0</td>\n",
              "      <td>0</td>\n",
              "      <td>0</td>\n",
              "      <td>0</td>\n",
              "      <td>0</td>\n",
              "      <td>0</td>\n",
              "      <td>0</td>\n",
              "      <td>0</td>\n",
              "      <td>0</td>\n",
              "      <td>0</td>\n",
              "      <td>0</td>\n",
              "      <td>0</td>\n",
              "      <td>0</td>\n",
              "      <td>0</td>\n",
              "      <td>0</td>\n",
              "      <td>[proshika, oper, cox, bazar, municip, 5, union...</td>\n",
              "    </tr>\n",
              "    <tr>\n",
              "      <th>26246</th>\n",
              "      <td>Some 2,000 women protesting against the conduc...</td>\n",
              "      <td>1</td>\n",
              "      <td>1</td>\n",
              "      <td>0</td>\n",
              "      <td>0</td>\n",
              "      <td>0</td>\n",
              "      <td>0</td>\n",
              "      <td>0</td>\n",
              "      <td>0</td>\n",
              "      <td>0</td>\n",
              "      <td>0</td>\n",
              "      <td>0</td>\n",
              "      <td>0</td>\n",
              "      <td>0</td>\n",
              "      <td>0</td>\n",
              "      <td>0</td>\n",
              "      <td>0</td>\n",
              "      <td>0</td>\n",
              "      <td>0</td>\n",
              "      <td>[some, 2, 000, woman, protest, conduct, elect,...</td>\n",
              "    </tr>\n",
              "    <tr>\n",
              "      <th>26247</th>\n",
              "      <td>A radical shift in thinking came about as a re...</td>\n",
              "      <td>0</td>\n",
              "      <td>0</td>\n",
              "      <td>0</td>\n",
              "      <td>0</td>\n",
              "      <td>0</td>\n",
              "      <td>0</td>\n",
              "      <td>0</td>\n",
              "      <td>0</td>\n",
              "      <td>0</td>\n",
              "      <td>0</td>\n",
              "      <td>0</td>\n",
              "      <td>0</td>\n",
              "      <td>0</td>\n",
              "      <td>0</td>\n",
              "      <td>0</td>\n",
              "      <td>0</td>\n",
              "      <td>0</td>\n",
              "      <td>0</td>\n",
              "      <td>[a, radic, shift, think, came, result, meet, r...</td>\n",
              "    </tr>\n",
              "  </tbody>\n",
              "</table>\n",
              "</div>"
            ],
            "text/plain": [
              "                                                 message  ...                                          tokenized\n",
              "26240  The delivery was made in conjunction with the ...  ...  [the, deliveri, made, conjunct, wfp, staffer, ...\n",
              "26242  Hpakant, an area rich with coveted jade stones...  ...  [hpakant, area, rich, covet, jade, stone, seen...\n",
              "26245  Proshika, operating in Cox's Bazar municipalit...  ...  [proshika, oper, cox, bazar, municip, 5, union...\n",
              "26246  Some 2,000 women protesting against the conduc...  ...  [some, 2, 000, woman, protest, conduct, elect,...\n",
              "26247  A radical shift in thinking came about as a re...  ...  [a, radic, shift, think, came, result, meet, r...\n",
              "\n",
              "[5 rows x 20 columns]"
            ]
          },
          "metadata": {
            "tags": []
          },
          "execution_count": 21
        }
      ]
    },
    {
      "cell_type": "code",
      "metadata": {
        "id": "vojwUX4t62Lb",
        "colab_type": "code",
        "colab": {}
      },
      "source": [
        "df_final = df.loc[:,df.columns != 'message']"
      ],
      "execution_count": null,
      "outputs": []
    },
    {
      "cell_type": "code",
      "metadata": {
        "id": "D8OxYJno8EaV",
        "colab_type": "code",
        "colab": {
          "base_uri": "https://localhost:8080/",
          "height": 185
        },
        "outputId": "c08cff32-1444-4251-df8e-cec00886d868"
      },
      "source": [
        "for i in range (26248):\n",
        "  try:\n",
        "    df_final['tokenized'][i] = ' '.join(df_final['tokenized'][i])\n",
        "  except KeyError:\n",
        "    continue"
      ],
      "execution_count": null,
      "outputs": [
        {
          "output_type": "stream",
          "text": [
            "/usr/local/lib/python3.6/dist-packages/ipykernel_launcher.py:3: SettingWithCopyWarning: \n",
            "A value is trying to be set on a copy of a slice from a DataFrame\n",
            "\n",
            "See the caveats in the documentation: https://pandas.pydata.org/pandas-docs/stable/user_guide/indexing.html#returning-a-view-versus-a-copy\n",
            "  This is separate from the ipykernel package so we can avoid doing imports until\n",
            "/usr/local/lib/python3.6/dist-packages/IPython/core/interactiveshell.py:2882: SettingWithCopyWarning: \n",
            "A value is trying to be set on a copy of a slice from a DataFrame\n",
            "\n",
            "See the caveats in the documentation: https://pandas.pydata.org/pandas-docs/stable/user_guide/indexing.html#returning-a-view-versus-a-copy\n",
            "  exec(code_obj, self.user_global_ns, self.user_ns)\n"
          ],
          "name": "stderr"
        }
      ]
    },
    {
      "cell_type": "code",
      "metadata": {
        "id": "IMqDjn6a8PNk",
        "colab_type": "code",
        "colab": {
          "base_uri": "https://localhost:8080/",
          "height": 602
        },
        "outputId": "6f9133b7-acba-445c-edda-cd7ad81179a5"
      },
      "source": [
        "df_final.tail()"
      ],
      "execution_count": null,
      "outputs": [
        {
          "output_type": "execute_result",
          "data": {
            "text/html": [
              "<div>\n",
              "<style scoped>\n",
              "    .dataframe tbody tr th:only-of-type {\n",
              "        vertical-align: middle;\n",
              "    }\n",
              "\n",
              "    .dataframe tbody tr th {\n",
              "        vertical-align: top;\n",
              "    }\n",
              "\n",
              "    .dataframe thead th {\n",
              "        text-align: right;\n",
              "    }\n",
              "</style>\n",
              "<table border=\"1\" class=\"dataframe\">\n",
              "  <thead>\n",
              "    <tr style=\"text-align: right;\">\n",
              "      <th></th>\n",
              "      <th>medical_and_other_aids</th>\n",
              "      <th>army_and_police</th>\n",
              "      <th>needs</th>\n",
              "      <th>disasters</th>\n",
              "      <th>infrastructure</th>\n",
              "      <th>search_and_rescue</th>\n",
              "      <th>child_alone</th>\n",
              "      <th>shelter</th>\n",
              "      <th>clothing</th>\n",
              "      <th>money</th>\n",
              "      <th>missing_people</th>\n",
              "      <th>refugees</th>\n",
              "      <th>death</th>\n",
              "      <th>floods</th>\n",
              "      <th>storm</th>\n",
              "      <th>fire</th>\n",
              "      <th>earthquake</th>\n",
              "      <th>cold</th>\n",
              "      <th>tokenized</th>\n",
              "    </tr>\n",
              "  </thead>\n",
              "  <tbody>\n",
              "    <tr>\n",
              "      <th>26240</th>\n",
              "      <td>0</td>\n",
              "      <td>0</td>\n",
              "      <td>0</td>\n",
              "      <td>0</td>\n",
              "      <td>0</td>\n",
              "      <td>0</td>\n",
              "      <td>0</td>\n",
              "      <td>0</td>\n",
              "      <td>0</td>\n",
              "      <td>0</td>\n",
              "      <td>0</td>\n",
              "      <td>0</td>\n",
              "      <td>0</td>\n",
              "      <td>0</td>\n",
              "      <td>0</td>\n",
              "      <td>0</td>\n",
              "      <td>0</td>\n",
              "      <td>0</td>\n",
              "      <td>the deliveri made conjunct wfp staffer rent tr...</td>\n",
              "    </tr>\n",
              "    <tr>\n",
              "      <th>26242</th>\n",
              "      <td>0</td>\n",
              "      <td>0</td>\n",
              "      <td>0</td>\n",
              "      <td>0</td>\n",
              "      <td>0</td>\n",
              "      <td>0</td>\n",
              "      <td>0</td>\n",
              "      <td>0</td>\n",
              "      <td>0</td>\n",
              "      <td>0</td>\n",
              "      <td>0</td>\n",
              "      <td>0</td>\n",
              "      <td>0</td>\n",
              "      <td>0</td>\n",
              "      <td>0</td>\n",
              "      <td>0</td>\n",
              "      <td>0</td>\n",
              "      <td>0</td>\n",
              "      <td>hpakant area rich covet jade stone seen recent...</td>\n",
              "    </tr>\n",
              "    <tr>\n",
              "      <th>26245</th>\n",
              "      <td>0</td>\n",
              "      <td>0</td>\n",
              "      <td>0</td>\n",
              "      <td>0</td>\n",
              "      <td>0</td>\n",
              "      <td>0</td>\n",
              "      <td>0</td>\n",
              "      <td>0</td>\n",
              "      <td>0</td>\n",
              "      <td>0</td>\n",
              "      <td>0</td>\n",
              "      <td>0</td>\n",
              "      <td>0</td>\n",
              "      <td>0</td>\n",
              "      <td>0</td>\n",
              "      <td>0</td>\n",
              "      <td>0</td>\n",
              "      <td>0</td>\n",
              "      <td>proshika oper cox bazar municip 5 union ramu c...</td>\n",
              "    </tr>\n",
              "    <tr>\n",
              "      <th>26246</th>\n",
              "      <td>1</td>\n",
              "      <td>1</td>\n",
              "      <td>0</td>\n",
              "      <td>0</td>\n",
              "      <td>0</td>\n",
              "      <td>0</td>\n",
              "      <td>0</td>\n",
              "      <td>0</td>\n",
              "      <td>0</td>\n",
              "      <td>0</td>\n",
              "      <td>0</td>\n",
              "      <td>0</td>\n",
              "      <td>0</td>\n",
              "      <td>0</td>\n",
              "      <td>0</td>\n",
              "      <td>0</td>\n",
              "      <td>0</td>\n",
              "      <td>0</td>\n",
              "      <td>some 2 000 woman protest conduct elect teargas...</td>\n",
              "    </tr>\n",
              "    <tr>\n",
              "      <th>26247</th>\n",
              "      <td>0</td>\n",
              "      <td>0</td>\n",
              "      <td>0</td>\n",
              "      <td>0</td>\n",
              "      <td>0</td>\n",
              "      <td>0</td>\n",
              "      <td>0</td>\n",
              "      <td>0</td>\n",
              "      <td>0</td>\n",
              "      <td>0</td>\n",
              "      <td>0</td>\n",
              "      <td>0</td>\n",
              "      <td>0</td>\n",
              "      <td>0</td>\n",
              "      <td>0</td>\n",
              "      <td>0</td>\n",
              "      <td>0</td>\n",
              "      <td>0</td>\n",
              "      <td>a radic shift think came result meet recogn hi...</td>\n",
              "    </tr>\n",
              "  </tbody>\n",
              "</table>\n",
              "</div>"
            ],
            "text/plain": [
              "       medical_and_other_aids  ...                                          tokenized\n",
              "26240                       0  ...  the deliveri made conjunct wfp staffer rent tr...\n",
              "26242                       0  ...  hpakant area rich covet jade stone seen recent...\n",
              "26245                       0  ...  proshika oper cox bazar municip 5 union ramu c...\n",
              "26246                       1  ...  some 2 000 woman protest conduct elect teargas...\n",
              "26247                       0  ...  a radic shift think came result meet recogn hi...\n",
              "\n",
              "[5 rows x 19 columns]"
            ]
          },
          "metadata": {
            "tags": []
          },
          "execution_count": 33
        }
      ]
    },
    {
      "cell_type": "code",
      "metadata": {
        "id": "5NRW13CQ8ZEa",
        "colab_type": "code",
        "colab": {}
      },
      "source": [
        "y = df_final.iloc[:, :-1].values\n",
        "X = df_final['tokenized']"
      ],
      "execution_count": null,
      "outputs": []
    },
    {
      "cell_type": "code",
      "metadata": {
        "id": "TS15esWdBvVE",
        "colab_type": "code",
        "colab": {
          "base_uri": "https://localhost:8080/",
          "height": 34
        },
        "outputId": "5092ded1-c78c-41e1-8750-1cbec07ce865"
      },
      "source": [
        "len(y[0])"
      ],
      "execution_count": null,
      "outputs": [
        {
          "output_type": "execute_result",
          "data": {
            "text/plain": [
              "18"
            ]
          },
          "metadata": {
            "tags": []
          },
          "execution_count": 35
        }
      ]
    },
    {
      "cell_type": "code",
      "metadata": {
        "id": "zFG1cwlUqnaG",
        "colab_type": "code",
        "colab": {
          "base_uri": "https://localhost:8080/",
          "height": 218
        },
        "outputId": "ffc45464-c040-4213-c50b-432d1db66340"
      },
      "source": [
        "X"
      ],
      "execution_count": null,
      "outputs": [
        {
          "output_type": "execute_result",
          "data": {
            "text/plain": [
              "0                  weather updat cold front cuba pas haiti\n",
              "1                                                 hurrican\n",
              "2                                         look someon name\n",
              "3        un report leogan destroy hospit st croix funct...\n",
              "4           say west side haiti rest countri today tonight\n",
              "                               ...                        \n",
              "26240    the deliveri made conjunct wfp staffer rent tr...\n",
              "26242    hpakant area rich covet jade stone seen recent...\n",
              "26245    proshika oper cox bazar municip 5 union ramu c...\n",
              "26246    some 2 000 woman protest conduct elect teargas...\n",
              "26247    a radic shift think came result meet recogn hi...\n",
              "Name: tokenized, Length: 19896, dtype: object"
            ]
          },
          "metadata": {
            "tags": []
          },
          "execution_count": 36
        }
      ]
    },
    {
      "cell_type": "code",
      "metadata": {
        "id": "hyN55DE18n1i",
        "colab_type": "code",
        "colab": {}
      },
      "source": [
        "X_train, X_test, y_train, y_test = train_test_split(X, y, test_size=0.2, random_state=40)"
      ],
      "execution_count": null,
      "outputs": []
    },
    {
      "cell_type": "code",
      "metadata": {
        "id": "SqZNLlKeqOIj",
        "colab_type": "code",
        "colab": {
          "base_uri": "https://localhost:8080/",
          "height": 218
        },
        "outputId": "a879cb96-fcda-43b6-b027-f898904970dd"
      },
      "source": [
        "X_train"
      ],
      "execution_count": null,
      "outputs": [
        {
          "output_type": "execute_result",
          "data": {
            "text/plain": [
              "9063             plea put card just call someon got exig u\n",
              "4553            la plain zone call marin havent gotten aid\n",
              "25040    israel resort excess forc respond second intifada\n",
              "22907    a shortag fuel leav altern drink unboil water ...\n",
              "13119    sprint fuckin trash servic horribl sinc sandi ...\n",
              "                               ...                        \n",
              "15738    valley toward snowi peak mark start himalaya t...\n",
              "21314    390 000 addit access improv water sourc househ...\n",
              "19284    due instal hydroelectr power station countri d...\n",
              "19355              landmin deton vehicl occup escap unharm\n",
              "15801    like occur period warm southwest wester wind a...\n",
              "Name: tokenized, Length: 15916, dtype: object"
            ]
          },
          "metadata": {
            "tags": []
          },
          "execution_count": 38
        }
      ]
    },
    {
      "cell_type": "code",
      "metadata": {
        "id": "jYrz-XqR8rOc",
        "colab_type": "code",
        "colab": {}
      },
      "source": [
        "from keras.preprocessing.text import Tokenizer\n",
        "import pickle\n",
        "\n",
        "max_features = 20000\n",
        "tokenizer = Tokenizer(num_words=max_features)\n",
        "tokenizer.fit_on_texts(list(X_train))\n",
        "list_tokenized_train = tokenizer.texts_to_sequences(X_train)\n",
        "list_tokenized_test = tokenizer.texts_to_sequences(X_test)"
      ],
      "execution_count": null,
      "outputs": []
    },
    {
      "cell_type": "code",
      "metadata": {
        "id": "9BFx3rMQ8vhC",
        "colab_type": "code",
        "colab": {}
      },
      "source": [
        "from keras.preprocessing.sequence import pad_sequences\n",
        "from keras.layers import Dense, Input, LSTM, Embedding, Dropout, Activation\n",
        "from keras.layers import Bidirectional, GlobalMaxPool1D\n",
        "from keras.models import Model\n",
        "from keras import initializers, regularizers, constraints, optimizers, layers\n"
      ],
      "execution_count": null,
      "outputs": []
    },
    {
      "cell_type": "code",
      "metadata": {
        "id": "Bb6Qsyas80he",
        "colab_type": "code",
        "colab": {}
      },
      "source": [
        "maxlen = 50\n",
        "X_tr = pad_sequences(list_tokenized_train, maxlen=maxlen)\n",
        "X_te = pad_sequences(list_tokenized_test, maxlen=maxlen)"
      ],
      "execution_count": null,
      "outputs": []
    },
    {
      "cell_type": "code",
      "metadata": {
        "id": "u50h86BT99Ti",
        "colab_type": "code",
        "colab": {
          "base_uri": "https://localhost:8080/",
          "height": 134
        },
        "outputId": "05b7f5c2-dc7f-4735-d92f-338e4009dd09"
      },
      "source": [
        "X_tr"
      ],
      "execution_count": null,
      "outputs": [
        {
          "output_type": "execute_result",
          "data": {
            "text/plain": [
              "array([[   0,    0,    0, ...,  379, 9254,    7],\n",
              "       [   0,    0,    0, ...,  431, 1262,   18],\n",
              "       [   0,    0,    0, ...,  539,  551, 9255],\n",
              "       ...,\n",
              "       [   0,    0,    0, ...,  950,  146,  163],\n",
              "       [   0,    0,    0, ..., 2338, 1374, 5628],\n",
              "       [   0,    0,    0, ..., 1744,  155, 5819]], dtype=int32)"
            ]
          },
          "metadata": {
            "tags": []
          },
          "execution_count": 42
        }
      ]
    },
    {
      "cell_type": "markdown",
      "metadata": {
        "colab_type": "text",
        "id": "sN1S0OOS8Fjg"
      },
      "source": [
        "## model"
      ]
    },
    {
      "cell_type": "code",
      "metadata": {
        "colab_type": "code",
        "id": "L-HdKP3E8Fjj",
        "colab": {}
      },
      "source": [
        "inp = Input(shape=(maxlen, ))"
      ],
      "execution_count": null,
      "outputs": []
    },
    {
      "cell_type": "code",
      "metadata": {
        "colab_type": "code",
        "id": "aewxNiPO8Fjn",
        "colab": {}
      },
      "source": [
        "embed_size = 128\n",
        "x = Embedding(max_features, embed_size)(inp)"
      ],
      "execution_count": null,
      "outputs": []
    },
    {
      "cell_type": "code",
      "metadata": {
        "colab_type": "code",
        "id": "2bSVdseq8Fjp",
        "colab": {}
      },
      "source": [
        "x = LSTM(60, return_sequences=True,name='lstm_layer')(x)\n",
        "x = GlobalMaxPool1D()(x)\n",
        "x = Dropout(0.1)(x)\n",
        "x = Dense(50, activation=\"relu\")(x)\n",
        "x = Dropout(0.1)(x)\n",
        "x = Dense(18, activation=\"sigmoid\")(x)"
      ],
      "execution_count": null,
      "outputs": []
    },
    {
      "cell_type": "code",
      "metadata": {
        "colab_type": "code",
        "id": "ha4tuKwy8Fjr",
        "colab": {}
      },
      "source": [
        "model = Model(inputs=inp, outputs=x)\n",
        "model.compile(loss='binary_crossentropy',\n",
        "                  optimizer='adam',\n",
        "                  metrics=['accuracy'])"
      ],
      "execution_count": null,
      "outputs": []
    },
    {
      "cell_type": "code",
      "metadata": {
        "colab_type": "code",
        "id": "NcLasDeR8Fjt",
        "colab": {
          "base_uri": "https://localhost:8080/",
          "height": 742
        },
        "outputId": "b50e8e5b-d119-4d9f-c72e-726cd0230b30"
      },
      "source": [
        "batch_size = 32\n",
        "epochs = 20\n",
        "history = model.fit(X_tr,y_train, batch_size=batch_size, epochs=epochs)"
      ],
      "execution_count": null,
      "outputs": [
        {
          "output_type": "stream",
          "text": [
            "/usr/local/lib/python3.6/dist-packages/tensorflow/python/framework/indexed_slices.py:434: UserWarning: Converting sparse IndexedSlices to a dense Tensor of unknown shape. This may consume a large amount of memory.\n",
            "  \"Converting sparse IndexedSlices to a dense Tensor of unknown shape. \"\n"
          ],
          "name": "stderr"
        },
        {
          "output_type": "stream",
          "text": [
            "Epoch 1/20\n",
            "15916/15916 [==============================] - 32s 2ms/step - loss: 0.2868 - accuracy: 0.8915\n",
            "Epoch 2/20\n",
            "15916/15916 [==============================] - 31s 2ms/step - loss: 0.2170 - accuracy: 0.9216\n",
            "Epoch 3/20\n",
            "15916/15916 [==============================] - 31s 2ms/step - loss: 0.1898 - accuracy: 0.9314\n",
            "Epoch 4/20\n",
            "15916/15916 [==============================] - 32s 2ms/step - loss: 0.1675 - accuracy: 0.9397\n",
            "Epoch 5/20\n",
            "15916/15916 [==============================] - 31s 2ms/step - loss: 0.1489 - accuracy: 0.9463\n",
            "Epoch 6/20\n",
            "15916/15916 [==============================] - 32s 2ms/step - loss: 0.1348 - accuracy: 0.9515\n",
            "Epoch 7/20\n",
            "15916/15916 [==============================] - 32s 2ms/step - loss: 0.1216 - accuracy: 0.9565\n",
            "Epoch 8/20\n",
            "15916/15916 [==============================] - 32s 2ms/step - loss: 0.1102 - accuracy: 0.9606\n",
            "Epoch 9/20\n",
            "15916/15916 [==============================] - 32s 2ms/step - loss: 0.1004 - accuracy: 0.9642\n",
            "Epoch 10/20\n",
            "15916/15916 [==============================] - 32s 2ms/step - loss: 0.0908 - accuracy: 0.9676\n",
            "Epoch 11/20\n",
            "15916/15916 [==============================] - 32s 2ms/step - loss: 0.0829 - accuracy: 0.9702\n",
            "Epoch 12/20\n",
            "15916/15916 [==============================] - 32s 2ms/step - loss: 0.0757 - accuracy: 0.9727\n",
            "Epoch 13/20\n",
            "15916/15916 [==============================] - 32s 2ms/step - loss: 0.0701 - accuracy: 0.9745\n",
            "Epoch 14/20\n",
            "15916/15916 [==============================] - 31s 2ms/step - loss: 0.0649 - accuracy: 0.9763\n",
            "Epoch 15/20\n",
            "15916/15916 [==============================] - 32s 2ms/step - loss: 0.0588 - accuracy: 0.9784\n",
            "Epoch 16/20\n",
            "15916/15916 [==============================] - 32s 2ms/step - loss: 0.0553 - accuracy: 0.9798\n",
            "Epoch 17/20\n",
            "15916/15916 [==============================] - 32s 2ms/step - loss: 0.0506 - accuracy: 0.9815\n",
            "Epoch 18/20\n",
            "15916/15916 [==============================] - 32s 2ms/step - loss: 0.0471 - accuracy: 0.9826\n",
            "Epoch 19/20\n",
            "15916/15916 [==============================] - 32s 2ms/step - loss: 0.0447 - accuracy: 0.9835\n",
            "Epoch 20/20\n",
            "15916/15916 [==============================] - 32s 2ms/step - loss: 0.0414 - accuracy: 0.9850\n"
          ],
          "name": "stdout"
        }
      ]
    },
    {
      "cell_type": "code",
      "metadata": {
        "colab_type": "code",
        "id": "NWqxl5Ne8Fjv",
        "colab": {
          "base_uri": "https://localhost:8080/",
          "height": 67
        },
        "outputId": "4222fc81-359d-464e-e585-38d9c7d17af3"
      },
      "source": [
        "loss, acc = model.evaluate(X_te, y_test)\n",
        "print()\n",
        "print(\"Test accuracy = \", acc)"
      ],
      "execution_count": null,
      "outputs": [
        {
          "output_type": "stream",
          "text": [
            "3980/3980 [==============================] - 1s 250us/step\n",
            "\n",
            "Test accuracy =  0.9219850897789001\n"
          ],
          "name": "stdout"
        }
      ]
    },
    {
      "cell_type": "code",
      "metadata": {
        "colab_type": "code",
        "id": "cYCfwo-18Fjy",
        "colab": {
          "base_uri": "https://localhost:8080/",
          "height": 295
        },
        "outputId": "8e452cc4-5c06-41d3-f087-e28ad1038c64"
      },
      "source": [
        "plt.plot(history.history['loss'])\n",
        "plt.plot(history.history['accuracy'])\n",
        "plt.title('loss and accuracy')\n",
        "plt.ylabel('loss and accuracy')\n",
        "plt.xlabel('epoch')\n",
        "plt.legend(['loss','accuracy'], loc='upper left')\n",
        "plt.show()"
      ],
      "execution_count": null,
      "outputs": [
        {
          "output_type": "display_data",
          "data": {
            "image/png": "[encoded data removed]",
            "text/plain": [
              "<Figure size 432x288 with 1 Axes>"
            ]
          },
          "metadata": {
            "tags": [],
            "needs_background": "light"
          }
        }
      ]
    },
    {
      "cell_type": "code",
      "metadata": {
        "colab_type": "code",
        "id": "ENPJfrwG8Fj0",
        "colab": {
          "base_uri": "https://localhost:8080/",
          "height": 420
        },
        "outputId": "322c6a75-50a4-439a-b8ec-1adf59ce5ffd"
      },
      "source": [
        "model.summary()"
      ],
      "execution_count": null,
      "outputs": [
        {
          "output_type": "stream",
          "text": [
            "Model: \"model_1\"\n",
            "_________________________________________________________________\n",
            "Layer (type)                 Output Shape              Param #   \n",
            "=================================================================\n",
            "input_1 (InputLayer)         (None, 50)                0         \n",
            "_________________________________________________________________\n",
            "embedding_1 (Embedding)      (None, 50, 128)           2560000   \n",
            "_________________________________________________________________\n",
            "lstm_layer (LSTM)            (None, 50, 60)            45360     \n",
            "_________________________________________________________________\n",
            "global_max_pooling1d_1 (Glob (None, 60)                0         \n",
            "_________________________________________________________________\n",
            "dropout_1 (Dropout)          (None, 60)                0         \n",
            "_________________________________________________________________\n",
            "dense_1 (Dense)              (None, 50)                3050      \n",
            "_________________________________________________________________\n",
            "dropout_2 (Dropout)          (None, 50)                0         \n",
            "_________________________________________________________________\n",
            "dense_2 (Dense)              (None, 18)                918       \n",
            "=================================================================\n",
            "Total params: 2,609,328\n",
            "Trainable params: 2,609,328\n",
            "Non-trainable params: 0\n",
            "_________________________________________________________________\n"
          ],
          "name": "stdout"
        }
      ]
    },
    {
      "cell_type": "code",
      "metadata": {
        "colab_type": "code",
        "id": "PAKGg9sM8Fj2",
        "colab": {}
      },
      "source": [
        "category_names = (df_final.columns[:-1]).tolist()"
      ],
      "execution_count": null,
      "outputs": []
    },
    {
      "cell_type": "code",
      "metadata": {
        "id": "sZK8S1YYH-Lx",
        "colab_type": "code",
        "colab": {
          "base_uri": "https://localhost:8080/",
          "height": 70
        },
        "outputId": "997c6901-b945-4ae2-a0f0-d873f6020930"
      },
      "source": [
        "import pickle\n",
        "\n",
        "loaded_model = pickle.load(open('/content/drive/My Drive/Project corpus/models/RNN_18cat_1_20.pickle', 'rb'))\n",
        "tokenizer_rnn = pickle.load(open('/content/drive/My Drive/Project corpus/models/tokenizer_18.pickle', 'rb'))"
      ],
      "execution_count": null,
      "outputs": [
        {
          "output_type": "stream",
          "text": [
            "/usr/local/lib/python3.6/dist-packages/tensorflow/python/framework/indexed_slices.py:434: UserWarning: Converting sparse IndexedSlices to a dense Tensor of unknown shape. This may consume a large amount of memory.\n",
            "  \"Converting sparse IndexedSlices to a dense Tensor of unknown shape. \"\n"
          ],
          "name": "stderr"
        }
      ]
    },
    {
      "cell_type": "code",
      "metadata": {
        "colab_type": "code",
        "id": "kcaFUSI28Fj7",
        "colab": {
          "base_uri": "https://localhost:8080/",
          "height": 319
        },
        "outputId": "a17f114d-5d03-4026-837d-40cd39dbf175"
      },
      "source": [
        "category_names"
      ],
      "execution_count": null,
      "outputs": [
        {
          "output_type": "execute_result",
          "data": {
            "text/plain": [
              "['medical_and_other_aids',\n",
              " 'army_and_police',\n",
              " 'needs',\n",
              " 'disasters',\n",
              " 'infrastructure',\n",
              " 'search_and_rescue',\n",
              " 'child_alone',\n",
              " 'shelter',\n",
              " 'clothing',\n",
              " 'money',\n",
              " 'missing_people',\n",
              " 'refugees',\n",
              " 'death',\n",
              " 'floods',\n",
              " 'storm',\n",
              " 'fire',\n",
              " 'earthquake',\n",
              " 'cold']"
            ]
          },
          "metadata": {
            "tags": []
          },
          "execution_count": 45
        }
      ]
    },
    {
      "cell_type": "code",
      "metadata": {
        "colab_type": "code",
        "id": "z1Ln2sPo8Fj4",
        "colab": {}
      },
      "source": [
        "reg_tokenizer = RegexpTokenizer(r'\\w+')\n",
        "lemmatizer = WordNetLemmatizer()\n",
        "\n",
        "s = \"I am having a heart attack\"\n",
        "s = re.sub(r'http[s]?[ ]?:[ ]?//\\S+', '', s.lower())\n",
        "s = re.sub(r'[^a-zA-Z ]', '', s)\n",
        "s = reg_tokenizer.tokenize(s)\n",
        "s = [w for w in s if w not in stop_words]\n",
        "s = [stemmer.stem(i) for i in s]\n",
        "s = [lemmatizer.lemmatize(i) for i in s]"
      ],
      "execution_count": null,
      "outputs": []
    },
    {
      "cell_type": "code",
      "metadata": {
        "colab_type": "code",
        "id": "LwdWaXq38Fj6",
        "colab": {}
      },
      "source": [
        "s = [' '.join(s)]"
      ],
      "execution_count": null,
      "outputs": []
    },
    {
      "cell_type": "code",
      "metadata": {
        "id": "Fl_akJbuDrDA",
        "colab_type": "code",
        "colab": {}
      },
      "source": [
        "list_tokenized_sample = tokenizer_rnn.texts_to_sequences(s)\n",
        "X_sample = pad_sequences(list_tokenized_sample, maxlen=maxlen)\n",
        "result2 = loaded_model.predict(X_sample)"
      ],
      "execution_count": null,
      "outputs": []
    },
    {
      "cell_type": "code",
      "metadata": {
        "id": "2YIJQLyVFHYC",
        "colab_type": "code",
        "colab": {
          "base_uri": "https://localhost:8080/",
          "height": 34
        },
        "outputId": "e3457dba-5fe4-41ff-c821-9dce1dabeb18"
      },
      "source": [
        "print(s)"
      ],
      "execution_count": null,
      "outputs": [
        {
          "output_type": "stream",
          "text": [
            "['heart attack']\n"
          ],
          "name": "stdout"
        }
      ]
    },
    {
      "cell_type": "code",
      "metadata": {
        "id": "nYGXGb11-qA0",
        "colab_type": "code",
        "colab": {
          "base_uri": "https://localhost:8080/",
          "height": 134
        },
        "outputId": "7b737fff-b15c-4b32-bbfb-882170bfbac9"
      },
      "source": [
        "res = sorted(range(len(result2[0])), key = lambda sub: result2[0][sub])[-5:] \n",
        "print('filtered from top 5')\n",
        "for i in res:\n",
        "  if result2[0][i] > 0.3:\n",
        "    print(category_names[i],result2[0][i])\n",
        "print()\n",
        "print (result2)"
      ],
      "execution_count": null,
      "outputs": [
        {
          "output_type": "stream",
          "text": [
            "filtered from top 5\n",
            "medical_and_other_aids 0.8100438\n",
            "\n",
            "[[8.1004381e-01 1.5337014e-01 2.4705934e-05 8.0460310e-04 3.9571226e-03\n",
            "  3.5444200e-03 4.2317504e-11 2.4571941e-06 4.6743239e-06 4.2095240e-07\n",
            "  3.5882294e-03 2.5099516e-04 4.6758950e-03 1.1893262e-05 1.0097179e-06\n",
            "  1.4716387e-04 3.9441999e-05 1.8202493e-07]]\n"
          ],
          "name": "stdout"
        }
      ]
    },
    {
      "cell_type": "code",
      "metadata": {
        "id": "iSHDjeUeOP_K",
        "colab_type": "code",
        "colab": {}
      },
      "source": [
        ""
      ],
      "execution_count": null,
      "outputs": []
    }
  ]
}